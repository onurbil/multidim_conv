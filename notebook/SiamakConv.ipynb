{
  "nbformat": 4,
  "nbformat_minor": 0,
  "metadata": {
    "colab": {
      "name": "SiamakConv.ipynb",
      "provenance": [],
      "collapsed_sections": [
        "fp1c-4vHkcyt",
        "lvPJTRmXlB0l",
        "AFIypn_H1Bzu"
      ],
      "toc_visible": true
    },
    "kernelspec": {
      "name": "python3",
      "display_name": "Python 3"
    },
    "accelerator": "GPU"
  },
  "cells": [
    {
      "cell_type": "code",
      "metadata": {
        "id": "1yy3gc13nHMR",
        "colab": {
          "base_uri": "https://localhost:8080/"
        },
        "outputId": "1bea7f91-caa7-4878-b045-93049ef29120"
      },
      "source": [
        "import matplotlib.pyplot as plt\n",
        "import numpy as np\n",
        " \n",
        "! pip install -q pyyaml h5py  # Required to save models in HDF5 format\n",
        "! pip install torch\n",
        "! pip install einops\n",
        "! pip install tqdm\n",
        "! pip install torchsummary\n",
        "! pip install scipy"
      ],
      "execution_count": 2,
      "outputs": [
        {
          "output_type": "stream",
          "text": [
            "Requirement already satisfied: torch in /usr/local/lib/python3.6/dist-packages (1.7.0+cu101)\n",
            "Requirement already satisfied: future in /usr/local/lib/python3.6/dist-packages (from torch) (0.16.0)\n",
            "Requirement already satisfied: numpy in /usr/local/lib/python3.6/dist-packages (from torch) (1.19.4)\n",
            "Requirement already satisfied: dataclasses in /usr/local/lib/python3.6/dist-packages (from torch) (0.8)\n",
            "Requirement already satisfied: typing-extensions in /usr/local/lib/python3.6/dist-packages (from torch) (3.7.4.3)\n",
            "Collecting einops\n",
            "  Downloading https://files.pythonhosted.org/packages/5d/a0/9935e030634bf60ecd572c775f64ace82ceddf2f504a5fd3902438f07090/einops-0.3.0-py2.py3-none-any.whl\n",
            "Installing collected packages: einops\n",
            "Successfully installed einops-0.3.0\n",
            "Requirement already satisfied: tqdm in /usr/local/lib/python3.6/dist-packages (4.41.1)\n",
            "Requirement already satisfied: torchsummary in /usr/local/lib/python3.6/dist-packages (1.5.1)\n",
            "Requirement already satisfied: scipy in /usr/local/lib/python3.6/dist-packages (1.4.1)\n",
            "Requirement already satisfied: numpy>=1.13.3 in /usr/local/lib/python3.6/dist-packages (from scipy) (1.19.4)\n"
          ],
          "name": "stdout"
        }
      ]
    },
    {
      "cell_type": "markdown",
      "metadata": {
        "id": "K6NYTcAvln4J"
      },
      "source": [
        "### Mount Google Drive\n",
        "\n",
        "**Requires dataset_tensor.npy file in \"Colab Notebooks/Tensorized Transformers/Data\" folder!**"
      ]
    },
    {
      "cell_type": "code",
      "metadata": {
        "id": "oaNZqkhqfjiJ",
        "colab": {
          "base_uri": "https://localhost:8080/"
        },
        "outputId": "da18b67e-39d5-41cd-9e1e-5d4d5a6a89cc"
      },
      "source": [
        "from google.colab import drive\n",
        "drive.mount('/content/drive')\n",
        "\n",
        "PATH = '/content/drive/My Drive/Colab Notebooks/Tensorized Transformers/'\n",
        "DATA_PATH = PATH + 'Data/'"
      ],
      "execution_count": 3,
      "outputs": [
        {
          "output_type": "stream",
          "text": [
            "Mounted at /content/drive\n"
          ],
          "name": "stdout"
        }
      ]
    },
    {
      "cell_type": "markdown",
      "metadata": {
        "id": "YHxUZWqils8I"
      },
      "source": [
        "### Clone Tensorized Transformers github repository"
      ]
    },
    {
      "cell_type": "code",
      "metadata": {
        "id": "BmKol2g8WU1d",
        "colab": {
          "base_uri": "https://localhost:8080/"
        },
        "outputId": "0db14fad-14ba-4bfc-cce8-e38ff38643fc"
      },
      "source": [
        "print('Github username:')\n",
        "git_username = %sx read -p ''\n",
        "git_username = git_username[0]"
      ],
      "execution_count": 4,
      "outputs": [
        {
          "output_type": "stream",
          "text": [
            "Github username:\n"
          ],
          "name": "stdout"
        }
      ]
    },
    {
      "cell_type": "code",
      "metadata": {
        "id": "tkU2f9HhZQB9",
        "colab": {
          "base_uri": "https://localhost:8080/"
        },
        "outputId": "545b4492-c094-4792-cef1-1f36fd8bf8bd"
      },
      "source": [
        "print('Github access token (https://github.com/settings/tokens):')\n",
        "git_token =  %sx read -p ''\n",
        "git_token = git_token[0]"
      ],
      "execution_count": 5,
      "outputs": [
        {
          "output_type": "stream",
          "text": [
            "Github access token (https://github.com/settings/tokens):\n"
          ],
          "name": "stdout"
        }
      ]
    },
    {
      "cell_type": "code",
      "metadata": {
        "id": "KA6Ej0xOjzbu",
        "colab": {
          "base_uri": "https://localhost:8080/"
        },
        "outputId": "46038616-6461-462c-d818-24158046d206"
      },
      "source": [
        "# Clone the entire repo.\n",
        "%cd /content\n",
        "!git clone -l -s https://github.com/onurbil/multidim_conv.git sc\n",
        "%cd sc\n",
        "!ls\n",
        "%cd ..\n",
        "\n",
        "REPO_PATH = '/content/sc'"
      ],
      "execution_count": 6,
      "outputs": [
        {
          "output_type": "stream",
          "text": [
            "/content\n",
            "Cloning into 'sc'...\n",
            "warning: --local is ignored\n",
            "remote: Enumerating objects: 158, done.\u001b[K\n",
            "remote: Counting objects: 100% (158/158), done.\u001b[K\n",
            "remote: Compressing objects: 100% (124/124), done.\u001b[K\n",
            "remote: Total 192 (delta 71), reused 116 (delta 34), pack-reused 34\u001b[K\n",
            "Receiving objects: 100% (192/192), 178.13 MiB | 38.68 MiB/s, done.\n",
            "Resolving deltas: 100% (76/76), done.\n",
            "/content/sc\n",
            "common\t       models\t\t    README.md\t      setup.py\tutils\n",
            "dataset_tools  models-MultiDim.png  requirements.txt  train.py\n",
            "/content\n"
          ],
          "name": "stdout"
        }
      ]
    },
    {
      "cell_type": "code",
      "metadata": {
        "id": "jmfy2j6FkjLo",
        "colab": {
          "base_uri": "https://localhost:8080/"
        },
        "outputId": "ad84d9db-5c83-4250-d6e8-05fa726c29ab"
      },
      "source": [
        "import sys\n",
        "sys.path.append(REPO_PATH)\n",
        "print(sys.path)"
      ],
      "execution_count": 7,
      "outputs": [
        {
          "output_type": "stream",
          "text": [
            "['', '/env/python', '/usr/lib/python36.zip', '/usr/lib/python3.6', '/usr/lib/python3.6/lib-dynload', '/usr/local/lib/python3.6/dist-packages', '/usr/lib/python3/dist-packages', '/usr/local/lib/python3.6/dist-packages/IPython/extensions', '/root/.ipython', '/content/sc']\n"
          ],
          "name": "stdout"
        }
      ]
    },
    {
      "cell_type": "markdown",
      "metadata": {
        "id": "Yl9e5tQalzjp"
      },
      "source": [
        "## Experiments"
      ]
    },
    {
      "cell_type": "code",
      "metadata": {
        "id": "aUxsxY5wlBzO"
      },
      "source": [
        "import torch\n",
        "from torch import nn, optim\n",
        "import torch.nn.functional as F\n",
        "import time\n",
        "from utils import data_loader_wind_us\n",
        "from models import wind_models\n",
        "from tqdm import tqdm\n",
        "import scipy.io as sio\n",
        "from torchsummary import summary\n",
        "import matplotlib.pyplot as plt\n",
        "import numpy as np"
      ],
      "execution_count": 8,
      "outputs": []
    },
    {
      "cell_type": "code",
      "metadata": {
        "id": "n01aM7yxDZXW"
      },
      "source": [
        "\r\n",
        "def loss_batch(model, loss_func, xb, yb, opt=None):\r\n",
        "    loss = loss_func(model(xb), yb)\r\n",
        "\r\n",
        "    if opt is not None:\r\n",
        "        loss.backward()\r\n",
        "        opt.step()\r\n",
        "        opt.zero_grad()\r\n",
        "\r\n",
        "    return loss.item(), len(xb)\r\n",
        "\r\n",
        "\r\n",
        "def plot_figure(pred, y):\r\n",
        "    plt.figure(figsize=(14, 8))\r\n",
        "    # size = pred.shape[0]\r\n",
        "    # plt.plot(range(size), pred.detach().numpy(), label='pred')\r\n",
        "    # plt.plot(range(len(y)), y, label='true')\r\n",
        "    plt.plot(range(len(pred)), pred, label='pred')\r\n",
        "    plt.plot(range(len(y)), y, label='label')\r\n",
        "\r\n",
        "    plt.legend()\r\n",
        "    plt.show()\r\n",
        "\r\n",
        "\r\n",
        "def train_wind_us(data_folder, epochs, input_timesteps, prediction_timestep, test_size, num_cities, num_features,\r\n",
        "                  city_idx=None,\r\n",
        "                  feature_idx=None, dev=torch.device(\"cpu\"), earlystopping=None):\r\n",
        "    print(f\"Device: {dev}\")\r\n",
        "\r\n",
        "    train_dl, valid_dl = data_loader_wind_us.get_train_valid_loader(data_folder,\r\n",
        "                                                                    input_timesteps=input_timesteps,\r\n",
        "                                                                    prediction_timestep=prediction_timestep,\r\n",
        "                                                                    batch_size=64,\r\n",
        "                                                                    random_seed=1337,\r\n",
        "                                                                    test_size=test_size,\r\n",
        "                                                                    city_num=num_cities,\r\n",
        "                                                                    city_idx=city_idx,\r\n",
        "                                                                    feature_num=num_features,\r\n",
        "                                                                    feature_idx=feature_idx,\r\n",
        "                                                                    valid_size=0.1,\r\n",
        "                                                                    shuffle=True,\r\n",
        "                                                                    num_workers=16,\r\n",
        "                                                                    pin_memory=True if dev == torch.device(\r\n",
        "                                                                        \"cuda\") else False)\r\n",
        "    if city_idx is not None and feature_idx is not None:\r\n",
        "        num_output_channel = 1\r\n",
        "    elif city_idx is not None:\r\n",
        "        num_output_channel = num_features\r\n",
        "    elif feature_idx is not None:\r\n",
        "        num_output_channel = num_cities\r\n",
        "    else:\r\n",
        "        num_output_channel = num_cities * num_features\r\n",
        "\r\n",
        "    ### Model definition ###\r\n",
        "    model = wind_models.MultidimConvNetwork(channels=input_timesteps, height=num_features, width=num_cities,\r\n",
        "                                            output_channels=num_output_channel, kernels_per_layer=16,\r\n",
        "                                            hidden_neurons=128)\r\n",
        "\r\n",
        "    # print(\"Parameters: \", sum(p.numel() for p in model.parameters() if p.requires_grad))\r\n",
        "    summary(model, (input_timesteps, num_cities, num_features), device=\"cpu\")\r\n",
        "    # Put the model on GPU\r\n",
        "    model.to(dev)\r\n",
        "    # Define optimizer\r\n",
        "    lr = 0.001\r\n",
        "    opt = optim.Adam(model.parameters(), lr=lr)\r\n",
        "    # Loss function\r\n",
        "    # loss_func = F.mse_loss\r\n",
        "    loss_func = F.l1_loss\r\n",
        "    #### Training ####\r\n",
        "    best_val_loss = 1e300\r\n",
        "\r\n",
        "    earlystopping_counter = 0\r\n",
        "    pbar = tqdm(range(epochs), desc=\"Epochs\")\r\n",
        "    for epoch in pbar:\r\n",
        "        model.train()\r\n",
        "        train_loss = 0.0\r\n",
        "        total_num = 0\r\n",
        "\r\n",
        "        for i, (xb, yb) in enumerate(train_dl):\r\n",
        "\r\n",
        "            loss, num = loss_batch(model, loss_func, xb.to(dev), yb.to(dev), opt)\r\n",
        "            if loss_func == F.l1_loss:\r\n",
        "                num = 1\r\n",
        "            train_loss += loss\r\n",
        "            total_num += num\r\n",
        "        train_loss /= total_num\r\n",
        "\r\n",
        "        # Calc validation loss\r\n",
        "        val_loss = 0.0\r\n",
        "        val_num = 0\r\n",
        "        model.eval()\r\n",
        "        with torch.no_grad():\r\n",
        "            for xb, yb in valid_dl:\r\n",
        "                loss, num = loss_batch(model, loss_func, xb.to(dev), yb.to(dev))\r\n",
        "                if loss_func == F.l1_loss:\r\n",
        "                    num = 1\r\n",
        "                val_loss += loss\r\n",
        "                val_num += num\r\n",
        "            val_loss /= val_num\r\n",
        "\r\n",
        "        pbar.set_postfix({'train_loss': train_loss, 'val_loss': val_loss})\r\n",
        "\r\n",
        "        # Save the model with the best validation loss\r\n",
        "        if val_loss < best_val_loss:\r\n",
        "            best_val_loss = val_loss\r\n",
        "            earlystopping_counter = 0\r\n",
        "\r\n",
        "        else:\r\n",
        "            if earlystopping is not None:\r\n",
        "                earlystopping_counter += 1\r\n",
        "                if earlystopping_counter >= earlystopping:\r\n",
        "                    print(f\"Stopping early --> val_loss has not decreased over {earlystopping} epochs\")\r\n",
        "                    break\r\n",
        "\r\n",
        "    torch.save({'model': model, 'epoch': epoch,\r\n",
        "                'state_dict': model.state_dict(),\r\n",
        "                'optimizer_state_dict': opt.state_dict(),\r\n",
        "                'val_loss': val_loss, 'train_loss': train_loss},\r\n",
        "               f\"/content/drive/My Drive/Colab Notebooks/Tensorized Transformers/Model/sc/model_{model.__class__.__name__}.pt\")\r\n",
        "    return model"
      ],
      "execution_count": 12,
      "outputs": []
    },
    {
      "cell_type": "code",
      "metadata": {
        "colab": {
          "base_uri": "https://localhost:8080/"
        },
        "id": "pKAfQ3eeEuZp",
        "outputId": "6cc6d99a-eaef-4862-aee1-885db5492b52"
      },
      "source": [
        "!ls"
      ],
      "execution_count": 13,
      "outputs": [
        {
          "output_type": "stream",
          "text": [
            "drive  sample_data  sc\n"
          ],
          "name": "stdout"
        }
      ]
    },
    {
      "cell_type": "code",
      "metadata": {
        "id": "hFJ-r1LJaj_a",
        "colab": {
          "base_uri": "https://localhost:8080/"
        },
        "outputId": "fde05da4-d9bf-4050-9951-f87114762a22"
      },
      "source": [
        "num_features = 11\n",
        "num_cities = 29\n",
        "city_idx = 0\n",
        "feature_idx = 4\n",
        "\n",
        "input_timesteps = 16\n",
        "prediction_timesteps = 4\n",
        "\n",
        "epochs = 200\n",
        "early_stopping = 20\n",
        "\n",
        "test_size = 8000\n",
        "display_results_after = 200\n",
        "\n",
        "train_model = True\n",
        "data = '/content/drive/My Drive/Colab Notebooks/Tensorized Transformers/Data/dataset_tensor.npy'\n",
        "load_model_path = \"/content/drive/My Drive/Colab Notebooks/Tensorized Transformers/Model/sc/model_MultidimConvNetwork.pt\"\n",
        "\n",
        "\n",
        "dev = torch.device(\"cuda\") if torch.cuda.is_available() else torch.device(\"cpu\")\n",
        "# torch.backends.cudnn.benchmark = True\n",
        "\n",
        "print(\"Weather dataset. Step: \", prediction_timesteps)\n",
        "\n",
        "if train_model:\n",
        "    model = train_wind_us(data, num_cities=num_cities, test_size=test_size, num_features=num_features, city_idx=city_idx,\n",
        "                  feature_idx=feature_idx, epochs=epochs, input_timesteps=input_timesteps,\n",
        "                  prediction_timestep=prediction_timesteps, dev=dev, earlystopping=early_stopping)\n",
        "\n"
      ],
      "execution_count": 26,
      "outputs": [
        {
          "output_type": "stream",
          "text": [
            "Weather dataset. Step:  4\n",
            "Device: cuda\n"
          ],
          "name": "stdout"
        },
        {
          "output_type": "stream",
          "text": [
            "\n",
            "Epochs:   0%|          | 0/200 [00:00<?, ?it/s]\u001b[A"
          ],
          "name": "stderr"
        },
        {
          "output_type": "stream",
          "text": [
            "----------------------------------------------------------------\n",
            "        Layer (type)               Output Shape         Param #\n",
            "================================================================\n",
            "            Conv2d-1          [-1, 256, 29, 11]           2,560\n",
            "            Conv2d-2           [-1, 16, 29, 11]           4,112\n",
            "DepthwiseSeparableConv-3           [-1, 16, 29, 11]               0\n",
            "            Conv2d-4          [-1, 176, 29, 16]           1,760\n",
            "            Conv2d-5           [-1, 11, 29, 16]           1,947\n",
            "DepthwiseSeparableConv-6           [-1, 11, 29, 16]               0\n",
            "            Conv2d-7          [-1, 464, 16, 11]           4,640\n",
            "            Conv2d-8           [-1, 29, 16, 11]          13,485\n",
            "DepthwiseSeparableConv-9           [-1, 29, 16, 11]               0\n",
            "      BatchNorm2d-10           [-1, 16, 29, 11]              32\n",
            "      BatchNorm2d-11           [-1, 11, 29, 16]              22\n",
            "      BatchNorm2d-12           [-1, 29, 16, 11]              58\n",
            "     MultidimConv-13                [-1, 15312]               0\n",
            "           Linear-14                  [-1, 128]       1,960,064\n",
            "           Linear-15                    [-1, 1]             129\n",
            "================================================================\n",
            "Total params: 1,988,809\n",
            "Trainable params: 1,988,809\n",
            "Non-trainable params: 0\n",
            "----------------------------------------------------------------\n",
            "Input size (MB): 0.02\n",
            "Forward/backward pass size (MB): 2.34\n",
            "Params size (MB): 7.59\n",
            "Estimated Total Size (MB): 9.94\n",
            "----------------------------------------------------------------\n"
          ],
          "name": "stdout"
        },
        {
          "output_type": "stream",
          "text": [
            "\n",
            "Epochs:   0%|          | 0/200 [00:07<?, ?it/s, train_loss=0.107, val_loss=0.0232]\u001b[A\n",
            "Epochs:   0%|          | 1/200 [00:07<24:25,  7.36s/it, train_loss=0.107, val_loss=0.0232]\u001b[A\n",
            "Epochs:   0%|          | 1/200 [00:14<24:25,  7.36s/it, train_loss=0.0209, val_loss=0.017]\u001b[A\n",
            "Epochs:   1%|          | 2/200 [00:14<24:06,  7.30s/it, train_loss=0.0209, val_loss=0.017]\u001b[A\n",
            "Epochs:   1%|          | 2/200 [00:21<24:06,  7.30s/it, train_loss=0.0191, val_loss=0.0304]\u001b[A\n",
            "Epochs:   2%|▏         | 3/200 [00:21<24:02,  7.32s/it, train_loss=0.0191, val_loss=0.0304]\u001b[A\n",
            "Epochs:   2%|▏         | 3/200 [00:29<24:02,  7.32s/it, train_loss=0.0173, val_loss=0.0281]\u001b[A\n",
            "Epochs:   2%|▏         | 4/200 [00:29<24:08,  7.39s/it, train_loss=0.0173, val_loss=0.0281]\u001b[A\n",
            "Epochs:   2%|▏         | 4/200 [00:36<24:08,  7.39s/it, train_loss=0.0188, val_loss=0.0143]\u001b[A\n",
            "Epochs:   2%|▎         | 5/200 [00:36<24:02,  7.40s/it, train_loss=0.0188, val_loss=0.0143]\u001b[A\n",
            "Epochs:   2%|▎         | 5/200 [00:44<24:02,  7.40s/it, train_loss=0.0158, val_loss=0.025] \u001b[A\n",
            "Epochs:   3%|▎         | 6/200 [00:44<24:07,  7.46s/it, train_loss=0.0158, val_loss=0.025]\u001b[A\n",
            "Epochs:   3%|▎         | 6/200 [00:51<24:07,  7.46s/it, train_loss=0.0159, val_loss=0.0166]\u001b[A\n",
            "Epochs:   4%|▎         | 7/200 [00:51<23:58,  7.45s/it, train_loss=0.0159, val_loss=0.0166]\u001b[A\n",
            "Epochs:   4%|▎         | 7/200 [00:59<23:58,  7.45s/it, train_loss=0.0144, val_loss=0.0134]\u001b[A\n",
            "Epochs:   4%|▍         | 8/200 [00:59<23:45,  7.43s/it, train_loss=0.0144, val_loss=0.0134]\u001b[A\n",
            "Epochs:   4%|▍         | 8/200 [01:06<23:45,  7.43s/it, train_loss=0.0147, val_loss=0.0193]\u001b[A\n",
            "Epochs:   4%|▍         | 9/200 [01:06<23:31,  7.39s/it, train_loss=0.0147, val_loss=0.0193]\u001b[A\n",
            "Epochs:   4%|▍         | 9/200 [01:13<23:31,  7.39s/it, train_loss=0.0144, val_loss=0.0134]\u001b[A\n",
            "Epochs:   5%|▌         | 10/200 [01:13<23:21,  7.38s/it, train_loss=0.0144, val_loss=0.0134]\u001b[A\n",
            "Epochs:   5%|▌         | 10/200 [01:21<23:21,  7.38s/it, train_loss=0.0138, val_loss=0.0139]\u001b[A\n",
            "Epochs:   6%|▌         | 11/200 [01:21<23:15,  7.38s/it, train_loss=0.0138, val_loss=0.0139]\u001b[A\n",
            "Epochs:   6%|▌         | 11/200 [01:28<23:15,  7.38s/it, train_loss=0.0145, val_loss=0.0143]\u001b[A\n",
            "Epochs:   6%|▌         | 12/200 [01:28<23:16,  7.43s/it, train_loss=0.0145, val_loss=0.0143]\u001b[A\n",
            "Epochs:   6%|▌         | 12/200 [01:36<23:16,  7.43s/it, train_loss=0.0129, val_loss=0.0171]\u001b[A\n",
            "Epochs:   6%|▋         | 13/200 [01:36<23:04,  7.41s/it, train_loss=0.0129, val_loss=0.0171]\u001b[A\n",
            "Epochs:   6%|▋         | 13/200 [01:43<23:04,  7.41s/it, train_loss=0.0129, val_loss=0.0148]\u001b[A\n",
            "Epochs:   7%|▋         | 14/200 [01:43<22:52,  7.38s/it, train_loss=0.0129, val_loss=0.0148]\u001b[A\n",
            "Epochs:   7%|▋         | 14/200 [01:50<22:52,  7.38s/it, train_loss=0.0128, val_loss=0.0229]\u001b[A\n",
            "Epochs:   8%|▊         | 15/200 [01:50<22:45,  7.38s/it, train_loss=0.0128, val_loss=0.0229]\u001b[A\n",
            "Epochs:   8%|▊         | 15/200 [01:58<22:45,  7.38s/it, train_loss=0.0128, val_loss=0.0157]\u001b[A\n",
            "Epochs:   8%|▊         | 16/200 [01:58<22:37,  7.38s/it, train_loss=0.0128, val_loss=0.0157]\u001b[A\n",
            "Epochs:   8%|▊         | 16/200 [02:05<22:37,  7.38s/it, train_loss=0.0131, val_loss=0.015] \u001b[A\n",
            "Epochs:   8%|▊         | 17/200 [02:05<22:28,  7.37s/it, train_loss=0.0131, val_loss=0.015]\u001b[A\n",
            "Epochs:   8%|▊         | 17/200 [02:12<22:28,  7.37s/it, train_loss=0.0126, val_loss=0.0135]\u001b[A\n",
            "Epochs:   9%|▉         | 18/200 [02:12<22:13,  7.33s/it, train_loss=0.0126, val_loss=0.0135]\u001b[A\n",
            "Epochs:   9%|▉         | 18/200 [02:20<22:13,  7.33s/it, train_loss=0.0124, val_loss=0.0149]\u001b[A\n",
            "Epochs:  10%|▉         | 19/200 [02:20<22:09,  7.35s/it, train_loss=0.0124, val_loss=0.0149]\u001b[A\n",
            "Epochs:  10%|▉         | 19/200 [02:27<22:09,  7.35s/it, train_loss=0.0122, val_loss=0.012] \u001b[A\n",
            "Epochs:  10%|█         | 20/200 [02:27<22:06,  7.37s/it, train_loss=0.0122, val_loss=0.012]\u001b[A\n",
            "Epochs:  10%|█         | 20/200 [02:35<22:06,  7.37s/it, train_loss=0.012, val_loss=0.0131]\u001b[A\n",
            "Epochs:  10%|█         | 21/200 [02:35<22:01,  7.38s/it, train_loss=0.012, val_loss=0.0131]\u001b[A\n",
            "Epochs:  10%|█         | 21/200 [02:42<22:01,  7.38s/it, train_loss=0.0116, val_loss=0.0119]\u001b[A\n",
            "Epochs:  11%|█         | 22/200 [02:42<22:04,  7.44s/it, train_loss=0.0116, val_loss=0.0119]\u001b[A\n",
            "Epochs:  11%|█         | 22/200 [02:49<22:04,  7.44s/it, train_loss=0.0124, val_loss=0.0153]\u001b[A\n",
            "Epochs:  12%|█▏        | 23/200 [02:49<21:50,  7.41s/it, train_loss=0.0124, val_loss=0.0153]\u001b[A\n",
            "Epochs:  12%|█▏        | 23/200 [02:57<21:50,  7.41s/it, train_loss=0.0119, val_loss=0.0159]\u001b[A\n",
            "Epochs:  12%|█▏        | 24/200 [02:57<21:47,  7.43s/it, train_loss=0.0119, val_loss=0.0159]\u001b[A\n",
            "Epochs:  12%|█▏        | 24/200 [03:04<21:47,  7.43s/it, train_loss=0.012, val_loss=0.0127] \u001b[A\n",
            "Epochs:  12%|█▎        | 25/200 [03:04<21:37,  7.42s/it, train_loss=0.012, val_loss=0.0127]\u001b[A\n",
            "Epochs:  12%|█▎        | 25/200 [03:12<21:37,  7.42s/it, train_loss=0.0116, val_loss=0.0158]\u001b[A\n",
            "Epochs:  13%|█▎        | 26/200 [03:12<21:38,  7.46s/it, train_loss=0.0116, val_loss=0.0158]\u001b[A\n",
            "Epochs:  13%|█▎        | 26/200 [03:19<21:38,  7.46s/it, train_loss=0.0114, val_loss=0.0117]\u001b[A\n",
            "Epochs:  14%|█▎        | 27/200 [03:19<21:34,  7.48s/it, train_loss=0.0114, val_loss=0.0117]\u001b[A\n",
            "Epochs:  14%|█▎        | 27/200 [03:27<21:34,  7.48s/it, train_loss=0.0117, val_loss=0.0123]\u001b[A\n",
            "Epochs:  14%|█▍        | 28/200 [03:27<21:21,  7.45s/it, train_loss=0.0117, val_loss=0.0123]\u001b[A\n",
            "Epochs:  14%|█▍        | 28/200 [03:34<21:21,  7.45s/it, train_loss=0.011, val_loss=0.0124] \u001b[A\n",
            "Epochs:  14%|█▍        | 29/200 [03:34<21:07,  7.41s/it, train_loss=0.011, val_loss=0.0124]\u001b[A\n",
            "Epochs:  14%|█▍        | 29/200 [03:42<21:07,  7.41s/it, train_loss=0.0109, val_loss=0.0111]\u001b[A\n",
            "Epochs:  15%|█▌        | 30/200 [03:42<20:59,  7.41s/it, train_loss=0.0109, val_loss=0.0111]\u001b[A\n",
            "Epochs:  15%|█▌        | 30/200 [03:49<20:59,  7.41s/it, train_loss=0.011, val_loss=0.0119] \u001b[A\n",
            "Epochs:  16%|█▌        | 31/200 [03:49<20:58,  7.45s/it, train_loss=0.011, val_loss=0.0119]\u001b[A\n",
            "Epochs:  16%|█▌        | 31/200 [03:56<20:58,  7.45s/it, train_loss=0.0106, val_loss=0.0149]\u001b[A\n",
            "Epochs:  16%|█▌        | 32/200 [03:56<20:43,  7.40s/it, train_loss=0.0106, val_loss=0.0149]\u001b[A\n",
            "Epochs:  16%|█▌        | 32/200 [04:04<20:43,  7.40s/it, train_loss=0.0106, val_loss=0.0119]\u001b[A\n",
            "Epochs:  16%|█▋        | 33/200 [04:04<20:35,  7.40s/it, train_loss=0.0106, val_loss=0.0119]\u001b[A\n",
            "Epochs:  16%|█▋        | 33/200 [04:11<20:35,  7.40s/it, train_loss=0.0107, val_loss=0.013] \u001b[A\n",
            "Epochs:  17%|█▋        | 34/200 [04:11<20:18,  7.34s/it, train_loss=0.0107, val_loss=0.013]\u001b[A\n",
            "Epochs:  17%|█▋        | 34/200 [04:18<20:18,  7.34s/it, train_loss=0.0105, val_loss=0.0117]\u001b[A\n",
            "Epochs:  18%|█▊        | 35/200 [04:18<20:09,  7.33s/it, train_loss=0.0105, val_loss=0.0117]\u001b[A\n",
            "Epochs:  18%|█▊        | 35/200 [04:25<20:09,  7.33s/it, train_loss=0.01, val_loss=0.0138]  \u001b[A\n",
            "Epochs:  18%|█▊        | 36/200 [04:25<19:53,  7.28s/it, train_loss=0.01, val_loss=0.0138]\u001b[A\n",
            "Epochs:  18%|█▊        | 36/200 [04:33<19:53,  7.28s/it, train_loss=0.00981, val_loss=0.0108]\u001b[A\n",
            "Epochs:  18%|█▊        | 37/200 [04:33<19:56,  7.34s/it, train_loss=0.00981, val_loss=0.0108]\u001b[A\n",
            "Epochs:  18%|█▊        | 37/200 [04:41<19:56,  7.34s/it, train_loss=0.00976, val_loss=0.012] \u001b[A\n",
            "Epochs:  19%|█▉        | 38/200 [04:41<20:07,  7.46s/it, train_loss=0.00976, val_loss=0.012]\u001b[A\n",
            "Epochs:  19%|█▉        | 38/200 [04:48<20:07,  7.46s/it, train_loss=0.0105, val_loss=0.0112]\u001b[A\n",
            "Epochs:  20%|█▉        | 39/200 [04:48<20:03,  7.48s/it, train_loss=0.0105, val_loss=0.0112]\u001b[A\n",
            "Epochs:  20%|█▉        | 39/200 [04:56<20:03,  7.48s/it, train_loss=0.00963, val_loss=0.0158]\u001b[A\n",
            "Epochs:  20%|██        | 40/200 [04:56<20:08,  7.55s/it, train_loss=0.00963, val_loss=0.0158]\u001b[A\n",
            "Epochs:  20%|██        | 40/200 [05:03<20:08,  7.55s/it, train_loss=0.0095, val_loss=0.0118] \u001b[A\n",
            "Epochs:  20%|██        | 41/200 [05:03<19:56,  7.53s/it, train_loss=0.0095, val_loss=0.0118]\u001b[A\n",
            "Epochs:  20%|██        | 41/200 [05:11<19:56,  7.53s/it, train_loss=0.00983, val_loss=0.0107]\u001b[A\n",
            "Epochs:  21%|██        | 42/200 [05:11<19:59,  7.59s/it, train_loss=0.00983, val_loss=0.0107]\u001b[A\n",
            "Epochs:  21%|██        | 42/200 [05:19<19:59,  7.59s/it, train_loss=0.00957, val_loss=0.0131]\u001b[A\n",
            "Epochs:  22%|██▏       | 43/200 [05:19<19:44,  7.54s/it, train_loss=0.00957, val_loss=0.0131]\u001b[A\n",
            "Epochs:  22%|██▏       | 43/200 [05:26<19:44,  7.54s/it, train_loss=0.00935, val_loss=0.0145]\u001b[A\n",
            "Epochs:  22%|██▏       | 44/200 [05:26<19:25,  7.47s/it, train_loss=0.00935, val_loss=0.0145]\u001b[A\n",
            "Epochs:  22%|██▏       | 44/200 [05:33<19:25,  7.47s/it, train_loss=0.00962, val_loss=0.0116]\u001b[A\n",
            "Epochs:  22%|██▎       | 45/200 [05:33<19:16,  7.46s/it, train_loss=0.00962, val_loss=0.0116]\u001b[A\n",
            "Epochs:  22%|██▎       | 45/200 [05:41<19:16,  7.46s/it, train_loss=0.00909, val_loss=0.0108]\u001b[A\n",
            "Epochs:  23%|██▎       | 46/200 [05:41<19:08,  7.46s/it, train_loss=0.00909, val_loss=0.0108]\u001b[A\n",
            "Epochs:  23%|██▎       | 46/200 [05:48<19:08,  7.46s/it, train_loss=0.00902, val_loss=0.0122]\u001b[A\n",
            "Epochs:  24%|██▎       | 47/200 [05:48<18:55,  7.42s/it, train_loss=0.00902, val_loss=0.0122]\u001b[A\n",
            "Epochs:  24%|██▎       | 47/200 [05:55<18:55,  7.42s/it, train_loss=0.00954, val_loss=0.0119]\u001b[A\n",
            "Epochs:  24%|██▍       | 48/200 [05:55<18:41,  7.38s/it, train_loss=0.00954, val_loss=0.0119]\u001b[A\n",
            "Epochs:  24%|██▍       | 48/200 [06:03<18:41,  7.38s/it, train_loss=0.00925, val_loss=0.0114]\u001b[A\n",
            "Epochs:  24%|██▍       | 49/200 [06:03<18:32,  7.37s/it, train_loss=0.00925, val_loss=0.0114]\u001b[A\n",
            "Epochs:  24%|██▍       | 49/200 [06:10<18:32,  7.37s/it, train_loss=0.00888, val_loss=0.0106]\u001b[A\n",
            "Epochs:  25%|██▌       | 50/200 [06:10<18:35,  7.43s/it, train_loss=0.00888, val_loss=0.0106]\u001b[A\n",
            "Epochs:  25%|██▌       | 50/200 [06:17<18:35,  7.43s/it, train_loss=0.00871, val_loss=0.0103]\u001b[A\n",
            "Epochs:  26%|██▌       | 51/200 [06:17<18:11,  7.33s/it, train_loss=0.00871, val_loss=0.0103]\u001b[A\n",
            "Epochs:  26%|██▌       | 51/200 [06:25<18:11,  7.33s/it, train_loss=0.00899, val_loss=0.0106]\u001b[A\n",
            "Epochs:  26%|██▌       | 52/200 [06:25<18:01,  7.31s/it, train_loss=0.00899, val_loss=0.0106]\u001b[A\n",
            "Epochs:  26%|██▌       | 52/200 [06:32<18:01,  7.31s/it, train_loss=0.00874, val_loss=0.0139]\u001b[A\n",
            "Epochs:  26%|██▋       | 53/200 [06:32<17:53,  7.30s/it, train_loss=0.00874, val_loss=0.0139]\u001b[A\n",
            "Epochs:  26%|██▋       | 53/200 [06:39<17:53,  7.30s/it, train_loss=0.0089, val_loss=0.0107] \u001b[A\n",
            "Epochs:  27%|██▋       | 54/200 [06:39<17:41,  7.27s/it, train_loss=0.0089, val_loss=0.0107]\u001b[A\n",
            "Epochs:  27%|██▋       | 54/200 [06:47<17:41,  7.27s/it, train_loss=0.00868, val_loss=0.0106]\u001b[A\n",
            "Epochs:  28%|██▊       | 55/200 [06:47<17:42,  7.33s/it, train_loss=0.00868, val_loss=0.0106]\u001b[A\n",
            "Epochs:  28%|██▊       | 55/200 [06:54<17:42,  7.33s/it, train_loss=0.00911, val_loss=0.015] \u001b[A\n",
            "Epochs:  28%|██▊       | 56/200 [06:54<17:43,  7.39s/it, train_loss=0.00911, val_loss=0.015]\u001b[A\n",
            "Epochs:  28%|██▊       | 56/200 [07:02<17:43,  7.39s/it, train_loss=0.00846, val_loss=0.0174]\u001b[A\n",
            "Epochs:  28%|██▊       | 57/200 [07:02<17:37,  7.40s/it, train_loss=0.00846, val_loss=0.0174]\u001b[A\n",
            "Epochs:  28%|██▊       | 57/200 [07:09<17:37,  7.40s/it, train_loss=0.00856, val_loss=0.0102]\u001b[A\n",
            "Epochs:  29%|██▉       | 58/200 [07:09<17:25,  7.36s/it, train_loss=0.00856, val_loss=0.0102]\u001b[A\n",
            "Epochs:  29%|██▉       | 58/200 [07:16<17:25,  7.36s/it, train_loss=0.00853, val_loss=0.0107]\u001b[A\n",
            "Epochs:  30%|██▉       | 59/200 [07:16<17:15,  7.34s/it, train_loss=0.00853, val_loss=0.0107]\u001b[A\n",
            "Epochs:  30%|██▉       | 59/200 [07:24<17:15,  7.34s/it, train_loss=0.00887, val_loss=0.0102]\u001b[A\n",
            "Epochs:  30%|███       | 60/200 [07:24<17:21,  7.44s/it, train_loss=0.00887, val_loss=0.0102]\u001b[A\n",
            "Epochs:  30%|███       | 60/200 [07:31<17:21,  7.44s/it, train_loss=0.00842, val_loss=0.0133]\u001b[A\n",
            "Epochs:  30%|███       | 61/200 [07:31<17:16,  7.46s/it, train_loss=0.00842, val_loss=0.0133]\u001b[A\n",
            "Epochs:  30%|███       | 61/200 [07:39<17:16,  7.46s/it, train_loss=0.00886, val_loss=0.0174]\u001b[A\n",
            "Epochs:  31%|███       | 62/200 [07:39<17:27,  7.59s/it, train_loss=0.00886, val_loss=0.0174]\u001b[A\n",
            "Epochs:  31%|███       | 62/200 [07:46<17:27,  7.59s/it, train_loss=0.00887, val_loss=0.0104]\u001b[A\n",
            "Epochs:  32%|███▏      | 63/200 [07:46<17:06,  7.49s/it, train_loss=0.00887, val_loss=0.0104]\u001b[A\n",
            "Epochs:  32%|███▏      | 63/200 [07:54<17:06,  7.49s/it, train_loss=0.00834, val_loss=0.00988]\u001b[A\n",
            "Epochs:  32%|███▏      | 64/200 [07:54<16:49,  7.43s/it, train_loss=0.00834, val_loss=0.00988]\u001b[A\n",
            "Epochs:  32%|███▏      | 64/200 [08:01<16:49,  7.43s/it, train_loss=0.00814, val_loss=0.0101] \u001b[A\n",
            "Epochs:  32%|███▎      | 65/200 [08:01<16:41,  7.42s/it, train_loss=0.00814, val_loss=0.0101]\u001b[A\n",
            "Epochs:  32%|███▎      | 65/200 [08:08<16:41,  7.42s/it, train_loss=0.00828, val_loss=0.0113]\u001b[A\n",
            "Epochs:  33%|███▎      | 66/200 [08:08<16:21,  7.32s/it, train_loss=0.00828, val_loss=0.0113]\u001b[A\n",
            "Epochs:  33%|███▎      | 66/200 [08:16<16:21,  7.32s/it, train_loss=0.00848, val_loss=0.0111]\u001b[A\n",
            "Epochs:  34%|███▎      | 67/200 [08:16<16:16,  7.35s/it, train_loss=0.00848, val_loss=0.0111]\u001b[A\n",
            "Epochs:  34%|███▎      | 67/200 [08:23<16:16,  7.35s/it, train_loss=0.00827, val_loss=0.0153]\u001b[A\n",
            "Epochs:  34%|███▍      | 68/200 [08:23<15:53,  7.22s/it, train_loss=0.00827, val_loss=0.0153]\u001b[A\n",
            "Epochs:  34%|███▍      | 68/200 [08:30<15:53,  7.22s/it, train_loss=0.00827, val_loss=0.0101]\u001b[A\n",
            "Epochs:  34%|███▍      | 69/200 [08:30<15:55,  7.30s/it, train_loss=0.00827, val_loss=0.0101]\u001b[A\n",
            "Epochs:  34%|███▍      | 69/200 [08:37<15:55,  7.30s/it, train_loss=0.00804, val_loss=0.00973]\u001b[A\n",
            "Epochs:  35%|███▌      | 70/200 [08:37<15:52,  7.33s/it, train_loss=0.00804, val_loss=0.00973]\u001b[A\n",
            "Epochs:  35%|███▌      | 70/200 [08:45<15:52,  7.33s/it, train_loss=0.00775, val_loss=0.0116] \u001b[A\n",
            "Epochs:  36%|███▌      | 71/200 [08:45<16:03,  7.47s/it, train_loss=0.00775, val_loss=0.0116]\u001b[A\n",
            "Epochs:  36%|███▌      | 71/200 [08:53<16:03,  7.47s/it, train_loss=0.00777, val_loss=0.0106]\u001b[A\n",
            "Epochs:  36%|███▌      | 72/200 [08:53<15:54,  7.46s/it, train_loss=0.00777, val_loss=0.0106]\u001b[A\n",
            "Epochs:  36%|███▌      | 72/200 [09:00<15:54,  7.46s/it, train_loss=0.00792, val_loss=0.0157]\u001b[A\n",
            "Epochs:  36%|███▋      | 73/200 [09:00<15:41,  7.41s/it, train_loss=0.00792, val_loss=0.0157]\u001b[A\n",
            "Epochs:  36%|███▋      | 73/200 [09:08<15:41,  7.41s/it, train_loss=0.0079, val_loss=0.01]   \u001b[A\n",
            "Epochs:  37%|███▋      | 74/200 [09:08<15:42,  7.48s/it, train_loss=0.0079, val_loss=0.01]\u001b[A\n",
            "Epochs:  37%|███▋      | 74/200 [09:15<15:42,  7.48s/it, train_loss=0.00766, val_loss=0.00969]\u001b[A\n",
            "Epochs:  38%|███▊      | 75/200 [09:15<15:24,  7.39s/it, train_loss=0.00766, val_loss=0.00969]\u001b[A\n",
            "Epochs:  38%|███▊      | 75/200 [09:22<15:24,  7.39s/it, train_loss=0.00783, val_loss=0.00979]\u001b[A\n",
            "Epochs:  38%|███▊      | 76/200 [09:22<15:16,  7.39s/it, train_loss=0.00783, val_loss=0.00979]\u001b[A\n",
            "Epochs:  38%|███▊      | 76/200 [09:29<15:16,  7.39s/it, train_loss=0.0085, val_loss=0.00976] \u001b[A\n",
            "Epochs:  38%|███▊      | 77/200 [09:29<15:01,  7.33s/it, train_loss=0.0085, val_loss=0.00976]\u001b[A\n",
            "Epochs:  38%|███▊      | 77/200 [09:36<15:01,  7.33s/it, train_loss=0.00777, val_loss=0.00961]\u001b[A\n",
            "Epochs:  39%|███▉      | 78/200 [09:36<14:46,  7.26s/it, train_loss=0.00777, val_loss=0.00961]\u001b[A\n",
            "Epochs:  39%|███▉      | 78/200 [09:44<14:46,  7.26s/it, train_loss=0.00761, val_loss=0.0102] \u001b[A\n",
            "Epochs:  40%|███▉      | 79/200 [09:44<14:32,  7.21s/it, train_loss=0.00761, val_loss=0.0102]\u001b[A\n",
            "Epochs:  40%|███▉      | 79/200 [09:51<14:32,  7.21s/it, train_loss=0.00747, val_loss=0.0126]\u001b[A\n",
            "Epochs:  40%|████      | 80/200 [09:51<14:26,  7.22s/it, train_loss=0.00747, val_loss=0.0126]\u001b[A\n",
            "Epochs:  40%|████      | 80/200 [09:58<14:26,  7.22s/it, train_loss=0.00736, val_loss=0.00978]\u001b[A\n",
            "Epochs:  40%|████      | 81/200 [09:58<14:20,  7.23s/it, train_loss=0.00736, val_loss=0.00978]\u001b[A\n",
            "Epochs:  40%|████      | 81/200 [10:06<14:20,  7.23s/it, train_loss=0.00738, val_loss=0.00961]\u001b[A\n",
            "Epochs:  41%|████      | 82/200 [10:06<14:24,  7.33s/it, train_loss=0.00738, val_loss=0.00961]\u001b[A\n",
            "Epochs:  41%|████      | 82/200 [10:13<14:24,  7.33s/it, train_loss=0.00748, val_loss=0.0129] \u001b[A\n",
            "Epochs:  42%|████▏     | 83/200 [10:13<14:06,  7.24s/it, train_loss=0.00748, val_loss=0.0129]\u001b[A\n",
            "Epochs:  42%|████▏     | 83/200 [10:20<14:06,  7.24s/it, train_loss=0.0077, val_loss=0.01]   \u001b[A\n",
            "Epochs:  42%|████▏     | 84/200 [10:20<14:00,  7.25s/it, train_loss=0.0077, val_loss=0.01]\u001b[A\n",
            "Epochs:  42%|████▏     | 84/200 [10:27<14:00,  7.25s/it, train_loss=0.00744, val_loss=0.00945]\u001b[A\n",
            "Epochs:  42%|████▎     | 85/200 [10:27<14:04,  7.34s/it, train_loss=0.00744, val_loss=0.00945]\u001b[A\n",
            "Epochs:  42%|████▎     | 85/200 [10:35<14:04,  7.34s/it, train_loss=0.00737, val_loss=0.00986]\u001b[A\n",
            "Epochs:  43%|████▎     | 86/200 [10:35<13:55,  7.33s/it, train_loss=0.00737, val_loss=0.00986]\u001b[A\n",
            "Epochs:  43%|████▎     | 86/200 [10:42<13:55,  7.33s/it, train_loss=0.00768, val_loss=0.011]  \u001b[A\n",
            "Epochs:  44%|████▎     | 87/200 [10:42<13:48,  7.33s/it, train_loss=0.00768, val_loss=0.011]\u001b[A\n",
            "Epochs:  44%|████▎     | 87/200 [10:50<13:48,  7.33s/it, train_loss=0.00747, val_loss=0.00966]\u001b[A\n",
            "Epochs:  44%|████▍     | 88/200 [10:50<13:44,  7.36s/it, train_loss=0.00747, val_loss=0.00966]\u001b[A\n",
            "Epochs:  44%|████▍     | 88/200 [10:57<13:44,  7.36s/it, train_loss=0.00717, val_loss=0.0122] \u001b[A\n",
            "Epochs:  44%|████▍     | 89/200 [10:57<13:34,  7.33s/it, train_loss=0.00717, val_loss=0.0122]\u001b[A\n",
            "Epochs:  44%|████▍     | 89/200 [11:04<13:34,  7.33s/it, train_loss=0.00716, val_loss=0.00995]\u001b[A\n",
            "Epochs:  45%|████▌     | 90/200 [11:04<13:29,  7.35s/it, train_loss=0.00716, val_loss=0.00995]\u001b[A\n",
            "Epochs:  45%|████▌     | 90/200 [11:12<13:29,  7.35s/it, train_loss=0.0074, val_loss=0.0104]  \u001b[A\n",
            "Epochs:  46%|████▌     | 91/200 [11:12<13:22,  7.36s/it, train_loss=0.0074, val_loss=0.0104]\u001b[A\n",
            "Epochs:  46%|████▌     | 91/200 [11:19<13:22,  7.36s/it, train_loss=0.00753, val_loss=0.00941]\u001b[A\n",
            "Epochs:  46%|████▌     | 92/200 [11:19<13:11,  7.33s/it, train_loss=0.00753, val_loss=0.00941]\u001b[A\n",
            "Epochs:  46%|████▌     | 92/200 [11:26<13:11,  7.33s/it, train_loss=0.00719, val_loss=0.0136] \u001b[A\n",
            "Epochs:  46%|████▋     | 93/200 [11:26<13:06,  7.35s/it, train_loss=0.00719, val_loss=0.0136]\u001b[A\n",
            "Epochs:  46%|████▋     | 93/200 [11:33<13:06,  7.35s/it, train_loss=0.007, val_loss=0.00946] \u001b[A\n",
            "Epochs:  47%|████▋     | 94/200 [11:33<12:48,  7.25s/it, train_loss=0.007, val_loss=0.00946]\u001b[A\n",
            "Epochs:  47%|████▋     | 94/200 [11:40<12:48,  7.25s/it, train_loss=0.0073, val_loss=0.00978]\u001b[A\n",
            "Epochs:  48%|████▊     | 95/200 [11:41<12:41,  7.25s/it, train_loss=0.0073, val_loss=0.00978]\u001b[A\n",
            "Epochs:  48%|████▊     | 95/200 [11:48<12:41,  7.25s/it, train_loss=0.0069, val_loss=0.00959]\u001b[A\n",
            "Epochs:  48%|████▊     | 96/200 [11:48<12:40,  7.31s/it, train_loss=0.0069, val_loss=0.00959]\u001b[A\n",
            "Epochs:  48%|████▊     | 96/200 [11:55<12:40,  7.31s/it, train_loss=0.00749, val_loss=0.01]  \u001b[A\n",
            "Epochs:  48%|████▊     | 97/200 [11:55<12:34,  7.32s/it, train_loss=0.00749, val_loss=0.01]\u001b[A\n",
            "Epochs:  48%|████▊     | 97/200 [12:03<12:34,  7.32s/it, train_loss=0.00727, val_loss=0.00934]\u001b[A\n",
            "Epochs:  49%|████▉     | 98/200 [12:03<12:25,  7.31s/it, train_loss=0.00727, val_loss=0.00934]\u001b[A\n",
            "Epochs:  49%|████▉     | 98/200 [12:10<12:25,  7.31s/it, train_loss=0.00689, val_loss=0.00924]\u001b[A\n",
            "Epochs:  50%|████▉     | 99/200 [12:10<12:29,  7.42s/it, train_loss=0.00689, val_loss=0.00924]\u001b[A\n",
            "Epochs:  50%|████▉     | 99/200 [12:18<12:29,  7.42s/it, train_loss=0.007, val_loss=0.00929]  \u001b[A\n",
            "Epochs:  50%|█████     | 100/200 [12:18<12:21,  7.41s/it, train_loss=0.007, val_loss=0.00929]\u001b[A\n",
            "Epochs:  50%|█████     | 100/200 [12:25<12:21,  7.41s/it, train_loss=0.00714, val_loss=0.0103]\u001b[A\n",
            "Epochs:  50%|█████     | 101/200 [12:25<12:10,  7.38s/it, train_loss=0.00714, val_loss=0.0103]\u001b[A\n",
            "Epochs:  50%|█████     | 101/200 [12:32<12:10,  7.38s/it, train_loss=0.00736, val_loss=0.00941]\u001b[A\n",
            "Epochs:  51%|█████     | 102/200 [12:32<11:58,  7.34s/it, train_loss=0.00736, val_loss=0.00941]\u001b[A\n",
            "Epochs:  51%|█████     | 102/200 [12:40<11:58,  7.34s/it, train_loss=0.00689, val_loss=0.0106] \u001b[A\n",
            "Epochs:  52%|█████▏    | 103/200 [12:40<11:51,  7.33s/it, train_loss=0.00689, val_loss=0.0106]\u001b[A\n",
            "Epochs:  52%|█████▏    | 103/200 [12:47<11:51,  7.33s/it, train_loss=0.00701, val_loss=0.0113]\u001b[A\n",
            "Epochs:  52%|█████▏    | 104/200 [12:47<11:46,  7.36s/it, train_loss=0.00701, val_loss=0.0113]\u001b[A\n",
            "Epochs:  52%|█████▏    | 104/200 [12:55<11:46,  7.36s/it, train_loss=0.00735, val_loss=0.00926]\u001b[A\n",
            "Epochs:  52%|█████▎    | 105/200 [12:55<11:46,  7.44s/it, train_loss=0.00735, val_loss=0.00926]\u001b[A\n",
            "Epochs:  52%|█████▎    | 105/200 [13:02<11:46,  7.44s/it, train_loss=0.00681, val_loss=0.0122] \u001b[A\n",
            "Epochs:  53%|█████▎    | 106/200 [13:02<11:37,  7.42s/it, train_loss=0.00681, val_loss=0.0122]\u001b[A\n",
            "Epochs:  53%|█████▎    | 106/200 [13:09<11:37,  7.42s/it, train_loss=0.00694, val_loss=0.0102]\u001b[A\n",
            "Epochs:  54%|█████▎    | 107/200 [13:09<11:25,  7.37s/it, train_loss=0.00694, val_loss=0.0102]\u001b[A\n",
            "Epochs:  54%|█████▎    | 107/200 [13:16<11:25,  7.37s/it, train_loss=0.00696, val_loss=0.00935]\u001b[A\n",
            "Epochs:  54%|█████▍    | 108/200 [13:16<11:12,  7.31s/it, train_loss=0.00696, val_loss=0.00935]\u001b[A\n",
            "Epochs:  54%|█████▍    | 108/200 [13:23<11:12,  7.31s/it, train_loss=0.00688, val_loss=0.00943]\u001b[A\n",
            "Epochs:  55%|█████▍    | 109/200 [13:23<10:59,  7.25s/it, train_loss=0.00688, val_loss=0.00943]\u001b[A\n",
            "Epochs:  55%|█████▍    | 109/200 [13:31<10:59,  7.25s/it, train_loss=0.00707, val_loss=0.00897]\u001b[A\n",
            "Epochs:  55%|█████▌    | 110/200 [13:31<10:53,  7.26s/it, train_loss=0.00707, val_loss=0.00897]\u001b[A\n",
            "Epochs:  55%|█████▌    | 110/200 [13:38<10:53,  7.26s/it, train_loss=0.00658, val_loss=0.00941]\u001b[A\n",
            "Epochs:  56%|█████▌    | 111/200 [13:38<10:50,  7.31s/it, train_loss=0.00658, val_loss=0.00941]\u001b[A\n",
            "Epochs:  56%|█████▌    | 111/200 [13:46<10:50,  7.31s/it, train_loss=0.00669, val_loss=0.0105] \u001b[A\n",
            "Epochs:  56%|█████▌    | 112/200 [13:46<10:47,  7.36s/it, train_loss=0.00669, val_loss=0.0105]\u001b[A\n",
            "Epochs:  56%|█████▌    | 112/200 [13:53<10:47,  7.36s/it, train_loss=0.007, val_loss=0.00971] \u001b[A\n",
            "Epochs:  56%|█████▋    | 113/200 [13:53<10:39,  7.35s/it, train_loss=0.007, val_loss=0.00971]\u001b[A\n",
            "Epochs:  56%|█████▋    | 113/200 [14:00<10:39,  7.35s/it, train_loss=0.0066, val_loss=0.00946]\u001b[A\n",
            "Epochs:  57%|█████▋    | 114/200 [14:00<10:28,  7.31s/it, train_loss=0.0066, val_loss=0.00946]\u001b[A\n",
            "Epochs:  57%|█████▋    | 114/200 [14:08<10:28,  7.31s/it, train_loss=0.00657, val_loss=0.0093]\u001b[A\n",
            "Epochs:  57%|█████▊    | 115/200 [14:08<10:23,  7.34s/it, train_loss=0.00657, val_loss=0.0093]\u001b[A\n",
            "Epochs:  57%|█████▊    | 115/200 [14:15<10:23,  7.34s/it, train_loss=0.00668, val_loss=0.00922]\u001b[A\n",
            "Epochs:  58%|█████▊    | 116/200 [14:15<10:11,  7.28s/it, train_loss=0.00668, val_loss=0.00922]\u001b[A\n",
            "Epochs:  58%|█████▊    | 116/200 [14:22<10:11,  7.28s/it, train_loss=0.00662, val_loss=0.00915]\u001b[A\n",
            "Epochs:  58%|█████▊    | 117/200 [14:22<09:57,  7.20s/it, train_loss=0.00662, val_loss=0.00915]\u001b[A\n",
            "Epochs:  58%|█████▊    | 117/200 [14:29<09:57,  7.20s/it, train_loss=0.00682, val_loss=0.0104] \u001b[A\n",
            "Epochs:  59%|█████▉    | 118/200 [14:29<09:51,  7.21s/it, train_loss=0.00682, val_loss=0.0104]\u001b[A\n",
            "Epochs:  59%|█████▉    | 118/200 [14:36<09:51,  7.21s/it, train_loss=0.00646, val_loss=0.0101]\u001b[A\n",
            "Epochs:  60%|█████▉    | 119/200 [14:36<09:45,  7.23s/it, train_loss=0.00646, val_loss=0.0101]\u001b[A\n",
            "Epochs:  60%|█████▉    | 119/200 [14:44<09:45,  7.23s/it, train_loss=0.00646, val_loss=0.00928]\u001b[A\n",
            "Epochs:  60%|██████    | 120/200 [14:44<09:44,  7.31s/it, train_loss=0.00646, val_loss=0.00928]\u001b[A\n",
            "Epochs:  60%|██████    | 120/200 [14:51<09:44,  7.31s/it, train_loss=0.00651, val_loss=0.011]  \u001b[A\n",
            "Epochs:  60%|██████    | 121/200 [14:51<09:36,  7.30s/it, train_loss=0.00651, val_loss=0.011]\u001b[A\n",
            "Epochs:  60%|██████    | 121/200 [14:58<09:36,  7.30s/it, train_loss=0.00674, val_loss=0.00911]\u001b[A\n",
            "Epochs:  61%|██████    | 122/200 [14:58<09:28,  7.28s/it, train_loss=0.00674, val_loss=0.00911]\u001b[A\n",
            "Epochs:  61%|██████    | 122/200 [15:05<09:28,  7.28s/it, train_loss=0.00639, val_loss=0.011]  \u001b[A\n",
            "Epochs:  62%|██████▏   | 123/200 [15:05<09:17,  7.24s/it, train_loss=0.00639, val_loss=0.011]\u001b[A\n",
            "Epochs:  62%|██████▏   | 123/200 [15:13<09:17,  7.24s/it, train_loss=0.00676, val_loss=0.00937]\u001b[A\n",
            "Epochs:  62%|██████▏   | 124/200 [15:13<09:06,  7.19s/it, train_loss=0.00676, val_loss=0.00937]\u001b[A\n",
            "Epochs:  62%|██████▏   | 124/200 [15:20<09:06,  7.19s/it, train_loss=0.00659, val_loss=0.00894]\u001b[A\n",
            "Epochs:  62%|██████▎   | 125/200 [15:20<08:56,  7.15s/it, train_loss=0.00659, val_loss=0.00894]\u001b[A\n",
            "Epochs:  62%|██████▎   | 125/200 [15:27<08:56,  7.15s/it, train_loss=0.00654, val_loss=0.0089] \u001b[A\n",
            "Epochs:  63%|██████▎   | 126/200 [15:27<08:50,  7.17s/it, train_loss=0.00654, val_loss=0.0089]\u001b[A\n",
            "Epochs:  63%|██████▎   | 126/200 [15:34<08:50,  7.17s/it, train_loss=0.00629, val_loss=0.0125]\u001b[A\n",
            "Epochs:  64%|██████▎   | 127/200 [15:34<08:41,  7.15s/it, train_loss=0.00629, val_loss=0.0125]\u001b[A\n",
            "Epochs:  64%|██████▎   | 127/200 [15:41<08:41,  7.15s/it, train_loss=0.00641, val_loss=0.00988]\u001b[A\n",
            "Epochs:  64%|██████▍   | 128/200 [15:41<08:42,  7.25s/it, train_loss=0.00641, val_loss=0.00988]\u001b[A\n",
            "Epochs:  64%|██████▍   | 128/200 [15:49<08:42,  7.25s/it, train_loss=0.00638, val_loss=0.009]  \u001b[A\n",
            "Epochs:  64%|██████▍   | 129/200 [15:49<08:33,  7.23s/it, train_loss=0.00638, val_loss=0.009]\u001b[A\n",
            "Epochs:  64%|██████▍   | 129/200 [15:56<08:33,  7.23s/it, train_loss=0.00668, val_loss=0.0137]\u001b[A\n",
            "Epochs:  65%|██████▌   | 130/200 [15:56<08:25,  7.22s/it, train_loss=0.00668, val_loss=0.0137]\u001b[A\n",
            "Epochs:  65%|██████▌   | 130/200 [16:03<08:25,  7.22s/it, train_loss=0.00633, val_loss=0.00895]\u001b[A\n",
            "Epochs:  66%|██████▌   | 131/200 [16:03<08:16,  7.19s/it, train_loss=0.00633, val_loss=0.00895]\u001b[A\n",
            "Epochs:  66%|██████▌   | 131/200 [16:10<08:16,  7.19s/it, train_loss=0.00638, val_loss=0.00939]\u001b[A\n",
            "Epochs:  66%|██████▌   | 132/200 [16:10<08:09,  7.19s/it, train_loss=0.00638, val_loss=0.00939]\u001b[A\n",
            "Epochs:  66%|██████▌   | 132/200 [16:18<08:09,  7.19s/it, train_loss=0.00648, val_loss=0.00915]\u001b[A\n",
            "Epochs:  66%|██████▋   | 133/200 [16:18<08:06,  7.26s/it, train_loss=0.00648, val_loss=0.00915]\u001b[A\n",
            "Epochs:  66%|██████▋   | 133/200 [16:25<08:06,  7.26s/it, train_loss=0.00649, val_loss=0.00904]\u001b[A\n",
            "Epochs:  67%|██████▋   | 134/200 [16:25<07:55,  7.21s/it, train_loss=0.00649, val_loss=0.00904]\u001b[A\n",
            "Epochs:  67%|██████▋   | 134/200 [16:32<07:55,  7.21s/it, train_loss=0.00622, val_loss=0.009]  \u001b[A\n",
            "Epochs:  68%|██████▊   | 135/200 [16:32<07:45,  7.16s/it, train_loss=0.00622, val_loss=0.009]\u001b[A\n",
            "Epochs:  68%|██████▊   | 135/200 [16:39<07:45,  7.16s/it, train_loss=0.00625, val_loss=0.00908]\u001b[A\n",
            "Epochs:  68%|██████▊   | 136/200 [16:39<07:39,  7.17s/it, train_loss=0.00625, val_loss=0.00908]\u001b[A\n",
            "Epochs:  68%|██████▊   | 136/200 [16:46<07:39,  7.17s/it, train_loss=0.0064, val_loss=0.00897] \u001b[A\n",
            "Epochs:  68%|██████▊   | 137/200 [16:46<07:32,  7.18s/it, train_loss=0.0064, val_loss=0.00897]\u001b[A\n",
            "Epochs:  68%|██████▊   | 137/200 [16:53<07:32,  7.18s/it, train_loss=0.0063, val_loss=0.0089] \u001b[A\n",
            "Epochs:  69%|██████▉   | 138/200 [16:53<07:23,  7.15s/it, train_loss=0.0063, val_loss=0.0089]\u001b[A\n",
            "Epochs:  69%|██████▉   | 138/200 [17:00<07:23,  7.15s/it, train_loss=0.0061, val_loss=0.0091]\u001b[A\n",
            "Epochs:  70%|██████▉   | 139/200 [17:00<07:13,  7.10s/it, train_loss=0.0061, val_loss=0.0091]\u001b[A\n",
            "Epochs:  70%|██████▉   | 139/200 [17:07<07:13,  7.10s/it, train_loss=0.00629, val_loss=0.00982]\u001b[A\n",
            "Epochs:  70%|███████   | 140/200 [17:07<07:06,  7.11s/it, train_loss=0.00629, val_loss=0.00982]\u001b[A\n",
            "Epochs:  70%|███████   | 140/200 [17:14<07:06,  7.11s/it, train_loss=0.00616, val_loss=0.0104] \u001b[A\n",
            "Epochs:  70%|███████   | 141/200 [17:14<06:58,  7.08s/it, train_loss=0.00616, val_loss=0.0104]\u001b[A\n",
            "Epochs:  70%|███████   | 141/200 [17:22<06:58,  7.08s/it, train_loss=0.00625, val_loss=0.00914]\u001b[A\n",
            "Epochs:  71%|███████   | 142/200 [17:22<06:55,  7.17s/it, train_loss=0.00625, val_loss=0.00914]\u001b[A\n",
            "Epochs:  71%|███████   | 142/200 [17:29<06:55,  7.17s/it, train_loss=0.00613, val_loss=0.00921]\u001b[A\n",
            "Epochs:  72%|███████▏  | 143/200 [17:29<06:49,  7.18s/it, train_loss=0.00613, val_loss=0.00921]\u001b[A\n",
            "Epochs:  72%|███████▏  | 143/200 [17:36<06:49,  7.18s/it, train_loss=0.00655, val_loss=0.00897]\u001b[A\n",
            "Epochs:  72%|███████▏  | 144/200 [17:36<06:45,  7.23s/it, train_loss=0.00655, val_loss=0.00897]\u001b[A\n",
            "Epochs:  72%|███████▏  | 144/200 [17:44<06:45,  7.23s/it, train_loss=0.00618, val_loss=0.00896]\u001b[A\n",
            "Epochs:  72%|███████▎  | 145/200 [17:44<06:40,  7.28s/it, train_loss=0.00618, val_loss=0.00896]\u001b[A\n",
            "Epochs:  72%|███████▎  | 145/200 [17:51<06:40,  7.28s/it, train_loss=0.00618, val_loss=0.00878]\u001b[A\n",
            "Epochs:  73%|███████▎  | 146/200 [17:51<06:36,  7.35s/it, train_loss=0.00618, val_loss=0.00878]\u001b[A\n",
            "Epochs:  73%|███████▎  | 146/200 [17:58<06:36,  7.35s/it, train_loss=0.00628, val_loss=0.0134] \u001b[A\n",
            "Epochs:  74%|███████▎  | 147/200 [17:58<06:27,  7.32s/it, train_loss=0.00628, val_loss=0.0134]\u001b[A\n",
            "Epochs:  74%|███████▎  | 147/200 [18:06<06:27,  7.32s/it, train_loss=0.00631, val_loss=0.00901]\u001b[A\n",
            "Epochs:  74%|███████▍  | 148/200 [18:06<06:19,  7.30s/it, train_loss=0.00631, val_loss=0.00901]\u001b[A\n",
            "Epochs:  74%|███████▍  | 148/200 [18:13<06:19,  7.30s/it, train_loss=0.00616, val_loss=0.0103] \u001b[A\n",
            "Epochs:  74%|███████▍  | 149/200 [18:13<06:12,  7.30s/it, train_loss=0.00616, val_loss=0.0103]\u001b[A\n",
            "Epochs:  74%|███████▍  | 149/200 [18:20<06:12,  7.30s/it, train_loss=0.00622, val_loss=0.0114]\u001b[A\n",
            "Epochs:  75%|███████▌  | 150/200 [18:20<06:05,  7.31s/it, train_loss=0.00622, val_loss=0.0114]\u001b[A\n",
            "Epochs:  75%|███████▌  | 150/200 [18:27<06:05,  7.31s/it, train_loss=0.00627, val_loss=0.00913]\u001b[A\n",
            "Epochs:  76%|███████▌  | 151/200 [18:27<05:55,  7.25s/it, train_loss=0.00627, val_loss=0.00913]\u001b[A\n",
            "Epochs:  76%|███████▌  | 151/200 [18:35<05:55,  7.25s/it, train_loss=0.00591, val_loss=0.00912]\u001b[A\n",
            "Epochs:  76%|███████▌  | 152/200 [18:35<05:51,  7.31s/it, train_loss=0.00591, val_loss=0.00912]\u001b[A\n",
            "Epochs:  76%|███████▌  | 152/200 [18:42<05:51,  7.31s/it, train_loss=0.00613, val_loss=0.0095] \u001b[A\n",
            "Epochs:  76%|███████▋  | 153/200 [18:42<05:40,  7.25s/it, train_loss=0.00613, val_loss=0.0095]\u001b[A\n",
            "Epochs:  76%|███████▋  | 153/200 [18:49<05:40,  7.25s/it, train_loss=0.00606, val_loss=0.0101]\u001b[A\n",
            "Epochs:  77%|███████▋  | 154/200 [18:49<05:36,  7.32s/it, train_loss=0.00606, val_loss=0.0101]\u001b[A\n",
            "Epochs:  77%|███████▋  | 154/200 [18:56<05:36,  7.32s/it, train_loss=0.00619, val_loss=0.00887]\u001b[A\n",
            "Epochs:  78%|███████▊  | 155/200 [18:56<05:26,  7.26s/it, train_loss=0.00619, val_loss=0.00887]\u001b[A\n",
            "Epochs:  78%|███████▊  | 155/200 [19:04<05:26,  7.26s/it, train_loss=0.00624, val_loss=0.00905]\u001b[A\n",
            "Epochs:  78%|███████▊  | 156/200 [19:04<05:17,  7.23s/it, train_loss=0.00624, val_loss=0.00905]\u001b[A\n",
            "Epochs:  78%|███████▊  | 156/200 [19:11<05:17,  7.23s/it, train_loss=0.00608, val_loss=0.00897]\u001b[A\n",
            "Epochs:  78%|███████▊  | 157/200 [19:11<05:15,  7.33s/it, train_loss=0.00608, val_loss=0.00897]\u001b[A\n",
            "Epochs:  78%|███████▊  | 157/200 [19:18<05:15,  7.33s/it, train_loss=0.00583, val_loss=0.00935]\u001b[A\n",
            "Epochs:  79%|███████▉  | 158/200 [19:18<05:02,  7.20s/it, train_loss=0.00583, val_loss=0.00935]\u001b[A\n",
            "Epochs:  79%|███████▉  | 158/200 [19:25<05:02,  7.20s/it, train_loss=0.00604, val_loss=0.00875]\u001b[A\n",
            "Epochs:  80%|███████▉  | 159/200 [19:25<04:57,  7.25s/it, train_loss=0.00604, val_loss=0.00875]\u001b[A\n",
            "Epochs:  80%|███████▉  | 159/200 [19:33<04:57,  7.25s/it, train_loss=0.00608, val_loss=0.00924]\u001b[A\n",
            "Epochs:  80%|████████  | 160/200 [19:33<04:52,  7.31s/it, train_loss=0.00608, val_loss=0.00924]\u001b[A\n",
            "Epochs:  80%|████████  | 160/200 [19:40<04:52,  7.31s/it, train_loss=0.0062, val_loss=0.009]   \u001b[A\n",
            "Epochs:  80%|████████  | 161/200 [19:40<04:42,  7.25s/it, train_loss=0.0062, val_loss=0.009]\u001b[A\n",
            "Epochs:  80%|████████  | 161/200 [19:47<04:42,  7.25s/it, train_loss=0.00596, val_loss=0.00914]\u001b[A\n",
            "Epochs:  81%|████████  | 162/200 [19:47<04:36,  7.27s/it, train_loss=0.00596, val_loss=0.00914]\u001b[A\n",
            "Epochs:  81%|████████  | 162/200 [19:55<04:36,  7.27s/it, train_loss=0.00603, val_loss=0.00879]\u001b[A\n",
            "Epochs:  82%|████████▏ | 163/200 [19:55<04:28,  7.27s/it, train_loss=0.00603, val_loss=0.00879]\u001b[A\n",
            "Epochs:  82%|████████▏ | 163/200 [20:02<04:28,  7.27s/it, train_loss=0.00594, val_loss=0.00896]\u001b[A\n",
            "Epochs:  82%|████████▏ | 164/200 [20:02<04:22,  7.30s/it, train_loss=0.00594, val_loss=0.00896]\u001b[A\n",
            "Epochs:  82%|████████▏ | 164/200 [20:09<04:22,  7.30s/it, train_loss=0.00609, val_loss=0.00858]\u001b[A\n",
            "Epochs:  82%|████████▎ | 165/200 [20:09<04:14,  7.28s/it, train_loss=0.00609, val_loss=0.00858]\u001b[A\n",
            "Epochs:  82%|████████▎ | 165/200 [20:16<04:14,  7.28s/it, train_loss=0.00575, val_loss=0.00926]\u001b[A\n",
            "Epochs:  83%|████████▎ | 166/200 [20:16<04:07,  7.28s/it, train_loss=0.00575, val_loss=0.00926]\u001b[A\n",
            "Epochs:  83%|████████▎ | 166/200 [20:24<04:07,  7.28s/it, train_loss=0.00602, val_loss=0.00936]\u001b[A\n",
            "Epochs:  84%|████████▎ | 167/200 [20:24<04:01,  7.33s/it, train_loss=0.00602, val_loss=0.00936]\u001b[A\n",
            "Epochs:  84%|████████▎ | 167/200 [20:31<04:01,  7.33s/it, train_loss=0.00602, val_loss=0.00936]\u001b[A\n",
            "Epochs:  84%|████████▍ | 168/200 [20:31<03:55,  7.36s/it, train_loss=0.00602, val_loss=0.00936]\u001b[A\n",
            "Epochs:  84%|████████▍ | 168/200 [20:39<03:55,  7.36s/it, train_loss=0.00611, val_loss=0.00883]\u001b[A\n",
            "Epochs:  84%|████████▍ | 169/200 [20:39<03:47,  7.35s/it, train_loss=0.00611, val_loss=0.00883]\u001b[A\n",
            "Epochs:  84%|████████▍ | 169/200 [20:46<03:47,  7.35s/it, train_loss=0.00581, val_loss=0.0101] \u001b[A\n",
            "Epochs:  85%|████████▌ | 170/200 [20:46<03:40,  7.34s/it, train_loss=0.00581, val_loss=0.0101]\u001b[A\n",
            "Epochs:  85%|████████▌ | 170/200 [20:53<03:40,  7.34s/it, train_loss=0.00596, val_loss=0.00928]\u001b[A\n",
            "Epochs:  86%|████████▌ | 171/200 [20:53<03:33,  7.38s/it, train_loss=0.00596, val_loss=0.00928]\u001b[A\n",
            "Epochs:  86%|████████▌ | 171/200 [21:01<03:33,  7.38s/it, train_loss=0.00575, val_loss=0.00878]\u001b[A\n",
            "Epochs:  86%|████████▌ | 172/200 [21:01<03:27,  7.40s/it, train_loss=0.00575, val_loss=0.00878]\u001b[A\n",
            "Epochs:  86%|████████▌ | 172/200 [21:08<03:27,  7.40s/it, train_loss=0.00574, val_loss=0.00901]\u001b[A\n",
            "Epochs:  86%|████████▋ | 173/200 [21:08<03:18,  7.34s/it, train_loss=0.00574, val_loss=0.00901]\u001b[A\n",
            "Epochs:  86%|████████▋ | 173/200 [21:15<03:18,  7.34s/it, train_loss=0.00604, val_loss=0.00916]\u001b[A\n",
            "Epochs:  87%|████████▋ | 174/200 [21:15<03:10,  7.33s/it, train_loss=0.00604, val_loss=0.00916]\u001b[A\n",
            "Epochs:  87%|████████▋ | 174/200 [21:23<03:10,  7.33s/it, train_loss=0.00579, val_loss=0.009]  \u001b[A\n",
            "Epochs:  88%|████████▊ | 175/200 [21:23<03:01,  7.28s/it, train_loss=0.00579, val_loss=0.009]\u001b[A\n",
            "Epochs:  88%|████████▊ | 175/200 [21:30<03:01,  7.28s/it, train_loss=0.00591, val_loss=0.00861]\u001b[A\n",
            "Epochs:  88%|████████▊ | 176/200 [21:30<02:54,  7.27s/it, train_loss=0.00591, val_loss=0.00861]\u001b[A\n",
            "Epochs:  88%|████████▊ | 176/200 [21:37<02:54,  7.27s/it, train_loss=0.00585, val_loss=0.00872]\u001b[A\n",
            "Epochs:  88%|████████▊ | 177/200 [21:37<02:46,  7.25s/it, train_loss=0.00585, val_loss=0.00872]\u001b[A\n",
            "Epochs:  88%|████████▊ | 177/200 [21:44<02:46,  7.25s/it, train_loss=0.00586, val_loss=0.0094] \u001b[A\n",
            "Epochs:  89%|████████▉ | 178/200 [21:44<02:40,  7.31s/it, train_loss=0.00586, val_loss=0.0094]\u001b[A\n",
            "Epochs:  89%|████████▉ | 178/200 [21:52<02:40,  7.31s/it, train_loss=0.0058, val_loss=0.0105] \u001b[A\n",
            "Epochs:  90%|████████▉ | 179/200 [21:52<02:32,  7.26s/it, train_loss=0.0058, val_loss=0.0105]\u001b[A\n",
            "Epochs:  90%|████████▉ | 179/200 [21:59<02:32,  7.26s/it, train_loss=0.006, val_loss=0.00887]\u001b[A\n",
            "Epochs:  90%|█████████ | 180/200 [21:59<02:24,  7.21s/it, train_loss=0.006, val_loss=0.00887]\u001b[A\n",
            "Epochs:  90%|█████████ | 180/200 [22:06<02:24,  7.21s/it, train_loss=0.00572, val_loss=0.00958]\u001b[A\n",
            "Epochs:  90%|█████████ | 181/200 [22:06<02:16,  7.19s/it, train_loss=0.00572, val_loss=0.00958]\u001b[A\n",
            "Epochs:  90%|█████████ | 181/200 [22:14<02:16,  7.19s/it, train_loss=0.0057, val_loss=0.00898] \u001b[A\n",
            "Epochs:  91%|█████████ | 182/200 [22:14<02:12,  7.38s/it, train_loss=0.0057, val_loss=0.00898]\u001b[A\n",
            "Epochs:  91%|█████████ | 182/200 [22:21<02:12,  7.38s/it, train_loss=0.00576, val_loss=0.00903]\u001b[A\n",
            "Epochs:  92%|█████████▏| 183/200 [22:21<02:04,  7.33s/it, train_loss=0.00576, val_loss=0.00903]\u001b[A\n",
            "Epochs:  92%|█████████▏| 183/200 [22:28<02:04,  7.33s/it, train_loss=0.00595, val_loss=0.00872]\u001b[A\n",
            "Epochs:  92%|█████████▏| 184/200 [22:28<01:56,  7.28s/it, train_loss=0.00595, val_loss=0.00872]\u001b[A\n",
            "Epochs:  92%|█████████▏| 184/200 [22:35<01:56,  7.28s/it, train_loss=0.00561, val_loss=0.00938]\u001b[A"
          ],
          "name": "stderr"
        },
        {
          "output_type": "stream",
          "text": [
            "Stopping early --> val_loss has not decreased over 20 epochs\n"
          ],
          "name": "stdout"
        }
      ]
    },
    {
      "cell_type": "code",
      "metadata": {
        "colab": {
          "base_uri": "https://localhost:8080/",
          "height": 520
        },
        "id": "Clt--lTmEdLI",
        "outputId": "a0fd9333-590e-40f8-f6fa-d2de3b454328"
      },
      "source": [
        "### Test the newly trained model ###\r\n",
        "# load the model architecture and the weights\r\n",
        "\r\n",
        "display_results_after = 200\r\n",
        "\r\n",
        "load = False\r\n",
        "if load:\r\n",
        "  loaded = torch.load(load_model_path)\r\n",
        "  model = loaded[\"model\"]\r\n",
        "  model.load_state_dict(loaded[\"state_dict\"])\r\n",
        "  model.to(dev)\r\n",
        "\r\n",
        "\r\n",
        "test_dl = data_loader_wind_us.get_test_loader(data, input_timesteps=input_timesteps,\r\n",
        "                                              prediction_timestep=prediction_timesteps, feature_num=num_features,\r\n",
        "                                              city_num=num_cities, city_idx=city_idx, feature_idx=feature_idx,\r\n",
        "                                              shuffle=False, num_workers=16, test_size=test_size,batch_size=1,\r\n",
        "                                              pin_memory=True if dev == torch.device(\"cuda\") else False)\r\n",
        "\r\n",
        "\r\n",
        "#for x,y in test_dl:\r\n",
        "    \r\n",
        "#    test_pred = model(x.to(dev))\r\n",
        "#    test_loss = F.l1_loss(test_pred, y.to(dev))\r\n",
        "#    print(test_loss.cpu().detach().numpy())\r\n",
        "#    plot_figure(test_pred.cpu().detach().numpy()[:display_results_after], y.detach().numpy()[:display_results_after])\r\n",
        "    \r\n",
        "\r\n",
        "\r\n",
        "preds = []\r\n",
        "labels = []\r\n",
        "\r\n",
        "\r\n",
        "for idx, (x, y) in enumerate(test_dl):\r\n",
        "    test_pred = model(x.to(dev))\r\n",
        "    preds.append(test_pred.cpu().detach().reshape(-1))\r\n",
        "    labels.append(y.cpu().detach().reshape(-1))\r\n",
        "    if idx > (len(test_dl)-1000):\r\n",
        "      break\r\n",
        "\r\n",
        "print(preds[0].shape)\r\n",
        "\r\n",
        "plot_figure(preds, labels)\r\n",
        "preds = torch.stack(preds)\r\n",
        "labels = torch.stack(labels)\r\n",
        "test_loss = F.l1_loss(preds, labels)\r\n",
        "print(\"Test MAE: \" + str(test_loss))\r\n",
        "\r\n"
      ],
      "execution_count": 42,
      "outputs": [
        {
          "output_type": "stream",
          "text": [
            "torch.Size([1])\n"
          ],
          "name": "stdout"
        },
        {
          "output_type": "display_data",
          "data": {
            "image/png": "[encoded data removed]",
            "text/plain": [
              "<Figure size 1008x576 with 1 Axes>"
            ]
          },
          "metadata": {
            "tags": [],
            "needs_background": "light"
          }
        },
        {
          "output_type": "stream",
          "text": [
            "Test MAE: tensor(0.0223)\n"
          ],
          "name": "stdout"
        }
      ]
    },
    {
      "cell_type": "markdown",
      "metadata": {
        "id": "fp1c-4vHkcyt"
      },
      "source": [
        "\r\n",
        "\r\n",
        "---\r\n",
        "\r\n",
        "\r\n",
        "## **TRANSFORM MODEL IN NON TPU MODEL (ALSO SAVING WEIGHTS)** \r\n",
        "\r\n",
        "## **-- Need to repeat the model --**"
      ]
    },
    {
      "cell_type": "code",
      "metadata": {
        "id": "xt0MK3uBSFbO"
      },
      "source": [
        "dir = '/content/drive/My Drive/Colab Notebooks/Model/Weights/tpu_model_lag'+ str(lag) + '.h5'\r\n",
        "model.save_weights(dir, overwrite=True)\r\n",
        "\r\n",
        "\r\n",
        "inferencing_model =  kr.Sequential([\r\n",
        "              kr.Input(shape=input_shape),\r\n",
        "              tt.PositionalEncoding(broadcast=True),\r\n",
        "              tt.EncoderLayer(input_length, d_model, head_num, dense_units, initializer, softmax_type),\r\n",
        "              tt.EncoderLayer(input_length, d_model, head_num, dense_units, initializer, softmax_type),\r\n",
        "              tt.EncoderLayer(input_length, d_model, head_num, dense_units, initializer, softmax_type),\r\n",
        "              # tt.EncoderLayer(input_length, d_model, head_num, dense_units, initializer, softmax_type),\r\n",
        "              # tt.EncoderLayer(input_length, d_model, head_num, dense_units, initializer, softmax_type),\r\n",
        "              # tt.EncoderLayer(input_length, d_model, head_num, dense_units, initializer, softmax_type),\r\n",
        "              kr.layers.Flatten(),\r\n",
        "              kr.layers.Dense(tf.reduce_prod(output_shape), activation='linear'),\r\n",
        "              kr.layers.Reshape(output_shape),\r\n",
        "              ])\r\n",
        "inferencing_model.load_weights(dir)\r\n",
        "inferencing_model.summary()\r\n",
        "\r\n",
        "pred = inferencing_model.predict(x_test)\r\n",
        "mae = kr.metrics.mae(y_test.numpy().flatten(), pred.flatten())\r\n",
        "print(\"\\n\\n######################## Results ##########################################\")\r\n",
        "print(f'test mae: {np.mean(mae)}')"
      ],
      "execution_count": null,
      "outputs": []
    },
    {
      "cell_type": "markdown",
      "metadata": {
        "id": "lvPJTRmXlB0l"
      },
      "source": [
        "## **Save entire model.**"
      ]
    },
    {
      "cell_type": "code",
      "metadata": {
        "id": "mIRsom6VT2Az"
      },
      "source": [
        "dir = '/content/drive/My Drive/Colab Notebooks/Model/Entire_Model/tpu_model_lag' + str(lag)\r\n",
        "\r\n",
        "localhost_save_option = tf.saved_model.SaveOptions(experimental_io_device=\"/job:localhost\")\r\n",
        "model.save(dir, options=localhost_save_option)\r\n",
        "\r\n",
        "# # Restore the weights\r\n",
        "model2 = tf.keras.models.load_model(dir, options=localhost_save_option, custom_objects={\r\n",
        "    'lr': tt.get_lr_metric, \r\n",
        "    'CustomSchedule':tt.CustomSchedule\r\n",
        "})\r\n",
        "\r\n",
        "model2.summary()\r\n",
        "\r\n",
        "pred = model.predict(x_test)\r\n",
        "mae = kr.metrics.mae(y_test.numpy().flatten(), pred.flatten())\r\n",
        "print(\"\\n\\n######################## Results ##########################################\")\r\n",
        "print(f'test mae: {np.mean(mae)}')"
      ],
      "execution_count": null,
      "outputs": []
    },
    {
      "cell_type": "markdown",
      "metadata": {
        "id": "AFIypn_H1Bzu"
      },
      "source": [
        "## **Test of the learning rate curve**"
      ]
    },
    {
      "cell_type": "code",
      "metadata": {
        "id": "1IAKcWNmkTNC"
      },
      "source": [
        "d_model = 256\r\n",
        "warmup_steps = 50\r\n",
        "factor1=-0.6\r\n",
        "factor2=-1.5\r\n",
        "\r\n",
        "temp_learning_rate_schedule = tt.CustomSchedule(d_model, warmup_steps=warmup_steps, factor1=factor1, factor2=factor2)\r\n",
        "plt.figure(figsize=(20, 8))\r\n",
        "plt.plot(temp_learning_rate_schedule(tf.range(10000, dtype=tf.float32)))\r\n",
        "plt.ylabel(\"Learning Rate\")\r\n",
        "plt.xlabel(\"Train Step\")\r\n",
        "plt.show()"
      ],
      "execution_count": null,
      "outputs": []
    }
  ]
}